{
 "cells": [
  {
   "cell_type": "markdown",
   "metadata": {},
   "source": [
    "## Random Forest with Fingerprint\n",
    "\n",
    "In this baseline model, we want to use compound's fingerprint to predict the outcome of assay. This is a single task, and the prediction performance is measured by the test set with cross-validation.\n",
    "\n",
    "The fingerprint is extracted from all compounds with length `1024`."
   ]
  },
  {
   "cell_type": "code",
   "execution_count": 53,
   "metadata": {},
   "outputs": [],
   "source": [
    "import numpy as np\n",
    "import pandas as pd\n",
    "from json import load, dump\n",
    "from sklearn.ensemble import RandomForestClassifier\n",
    "from collections import Counter\n",
    "from sklearn.preprocessing import OneHotEncoder\n",
    "from sklearn.model_selection import cross_validate, StratifiedKFold"
   ]
  },
  {
   "cell_type": "code",
   "execution_count": 9,
   "metadata": {},
   "outputs": [
    {
     "data": {
      "text/plain": [
       "(9404, 141)"
      ]
     },
     "execution_count": 9,
     "metadata": {},
     "output_type": "execute_result"
    }
   ],
   "source": [
    "# Load the output matrix\n",
    "output_matrix_npz = np.load(\"./resource/output_matrix.npz\")\n",
    "compound_inchi = output_matrix_npz[\"compound_inchi\"]\n",
    "compound_broad_id = output_matrix_npz[\"compound_broad_id\"]\n",
    "output_matrix = output_matrix_npz[\"output_matrix\"]\n",
    "output_matrix.shape"
   ]
  },
  {
   "cell_type": "code",
   "execution_count": 4,
   "metadata": {},
   "outputs": [],
   "source": [
    "# Load the fingerprint\n",
    "fingerprint = np.load(\"./resource/fp_features.npz\")\n",
    "\n",
    "# Build the feature array\n",
    "fp_feature = np.zeros((len(compound_broad_id), fingerprint[\"features\"].shape[1]))\n",
    "\n",
    "# Choose selected compounds and arrange them by the output matrix order\n",
    "fp_index = dict(zip(fingerprint[\"names\"].astype(str), range(len(fingerprint[\"names\"]))))\n",
    "\n",
    "for b in range(len(compound_broad_id)):\n",
    "    bid = compound_broad_id[b]\n",
    "    fp_feature[b, :] = fingerprint[\"features\"][fp_index[bid], :]"
   ]
  },
  {
   "cell_type": "markdown",
   "metadata": {},
   "source": [
    "It took one hour to create this $9404 \\times 1024$ feature matrix with finger print on condor."
   ]
  },
  {
   "cell_type": "code",
   "execution_count": 8,
   "metadata": {},
   "outputs": [
    {
     "data": {
      "text/plain": [
       "(9404, 1024)"
      ]
     },
     "execution_count": 8,
     "metadata": {},
     "output_type": "execute_result"
    }
   ],
   "source": [
    "fp_feature = np.load(\"./resource/extracted_fp_feature.npz\")[\"feature\"]\n",
    "fp_feature.shape"
   ]
  },
  {
   "cell_type": "markdown",
   "metadata": {},
   "source": [
    "From the PriA-SSB study, some good parameters for a random forests are selected with a different assay dataset. We expect the best parameters (`RF_h`) to perform well in this dataset.\n",
    "\n",
    "For each assay, we only train and predict on compounds that give non-NA results."
   ]
  },
  {
   "cell_type": "markdown",
   "metadata": {},
   "source": [
    "![](https://user-images.githubusercontent.com/3532898/46812713-e8a93280-cd3a-11e8-949a-3469236a3943.png)"
   ]
  },
  {
   "cell_type": "code",
   "execution_count": 74,
   "metadata": {},
   "outputs": [],
   "source": [
    "def train_rf_on_assay(assay_array, rf, kfold=5, n_jobs=4):\n",
    "    \"\"\"\n",
    "    Train and measure a random forest model in a cross validation fasshion.\n",
    "    The model is only trained on compounds which give non-NA results.\n",
    "    \"\"\"\n",
    "    # Filter out NA from the assay_array\n",
    "    y_index = [False if a == -1 else True for a in assay_array ]\n",
    "    y = assay_array[y_index]\n",
    "    x = fp_feature[y_index, :]\n",
    "    \n",
    "    if Counter(y)[1] < kfold:\n",
    "        print(\"Warning: the number of total postives is less than kfold\")\n",
    "        \n",
    "    # One-hot encode y array\n",
    "    #y = np.vstack([[1, 0] if i == 1 else [0, 1] for i in y])\n",
    "    \n",
    "    # Build the cross validation scheme\n",
    "    # Since some assays have extremely small number of positives,\n",
    "    # I will use StratifiedKFold to preserve the proportion of positive in test set\n",
    "    \n",
    "    my_kfold_gen = StratifiedKFold(n_splits=kfold, shuffle=True)\n",
    "    scoring = [\"f1\", \"accuracy\", \"precision\", \"recall\", \"average_precision\", \"roc_auc\"]\n",
    "    cv = cross_validate(rf, x, y, scoring=scoring, cv=my_kfold_gen, n_jobs=n_jobs,\n",
    "                        return_train_score=False)\n",
    "    \n",
    "    cv[\"total_count\"] = Counter(y)\n",
    "    \n",
    "    return cv"
   ]
  },
  {
   "cell_type": "code",
   "execution_count": 86,
   "metadata": {},
   "outputs": [],
   "source": [
    "results = {}\n",
    "\n",
    "rf_classifier = RandomForestClassifier(n_estimators=8000, max_features=\"log2\",\n",
    "                                       min_samples_leaf=1, class_weight=\"balanced\")\n",
    "\n",
    "for i in range(output_matrix.shape[1]):\n",
    "    print(i)\n",
    "    results[i] = train_rf_on_assay(output_matrix[:,i], rf_classifier, kfold=4)"
   ]
  },
  {
   "cell_type": "code",
   "execution_count": 78,
   "metadata": {},
   "outputs": [],
   "source": [
    "np.savez(\"results.npz\", results=results)"
   ]
  },
  {
   "cell_type": "code",
   "execution_count": 79,
   "metadata": {},
   "outputs": [],
   "source": [
    "tt = np.load(\"results.npz\")"
   ]
  },
  {
   "cell_type": "code",
   "execution_count": 84,
   "metadata": {},
   "outputs": [
    {
     "data": {
      "text/plain": [
       "{0: {'fit_time': array([35.44126105, 36.70299816, 36.27047396, 36.63322711]),\n",
       "  'score_time': array([12.07667804, 11.70032191, 11.90154123, 11.62328291]),\n",
       "  'test_f1': array([0., 0., 0., 0.]),\n",
       "  'test_accuracy': array([0.9871134 , 0.98966408, 0.98963731, 0.98963731]),\n",
       "  'test_precision': array([0., 0., 0., 0.]),\n",
       "  'test_recall': array([0., 0., 0., 0.]),\n",
       "  'test_average_precision': array([0.45146689, 0.31650327, 0.76351351, 0.59364261]),\n",
       "  'test_roc_auc': array([0.79869452, 0.9151436 , 0.95451571, 0.93520942]),\n",
       "  'total_count': Counter({0.0: 1530, 1.0: 17})},\n",
       " 1: {'fit_time': array([25.67761922, 25.42191577, 25.7296598 , 25.69925499]),\n",
       "  'score_time': array([7.66351986, 7.72381997, 7.6417191 , 7.68871307]),\n",
       "  'test_f1': array([0.74545455, 0.71028037, 0.76785714, 0.77310924]),\n",
       "  'test_accuracy': array([0.67058824, 0.63529412, 0.69411765, 0.67857143]),\n",
       "  'test_precision': array([0.67213115, 0.65517241, 0.68253968, 0.65714286]),\n",
       "  'test_recall': array([0.83673469, 0.7755102 , 0.87755102, 0.93877551]),\n",
       "  'test_average_precision': array([0.75227486, 0.70283952, 0.76030702, 0.84165302]),\n",
       "  'test_roc_auc': array([0.70804989, 0.6899093 , 0.73696145, 0.78833819]),\n",
       "  'total_count': Counter({1.0: 196, 0.0: 143})},\n",
       " 2: {'fit_time': array([25.46469688, 25.00047803, 24.84144783, 24.82351804]),\n",
       "  'score_time': array([6.39534712, 6.43183112, 6.5185082 , 6.51557684]),\n",
       "  'test_f1': array([0.2962963 , 0.26086957, 0.33333333, 0.0952381 ]),\n",
       "  'test_accuracy': array([0.77108434, 0.79518072, 0.80487805, 0.76829268]),\n",
       "  'test_precision': array([0.5       , 0.75      , 0.66666667, 0.33333333]),\n",
       "  'test_recall': array([0.21052632, 0.15789474, 0.22222222, 0.05555556]),\n",
       "  'test_average_precision': array([0.51590544, 0.56196071, 0.54028171, 0.49606241]),\n",
       "  'test_roc_auc': array([0.74917763, 0.76315789, 0.71440972, 0.80989583]),\n",
       "  'total_count': Counter({1.0: 74, 0.0: 256})},\n",
       " 3: {'fit_time': array([49.47522879, 49.99658298, 49.58321524, 49.65910792]),\n",
       "  'score_time': array([19.84905601, 19.76464295, 19.9196589 , 19.94036388]),\n",
       "  'test_f1': array([0.10169492, 0.13793103, 0.13793103, 0.14035088]),\n",
       "  'test_accuracy': array([0.81468531, 0.82517483, 0.8245614 , 0.82807018]),\n",
       "  'test_precision': array([0.5       , 0.8       , 0.66666667, 0.8       ]),\n",
       "  'test_recall': array([0.05660377, 0.0754717 , 0.07692308, 0.07692308]),\n",
       "  'test_average_precision': array([0.38847838, 0.43188147, 0.42542314, 0.42929192]),\n",
       "  'test_roc_auc': array([0.72475504, 0.72552433, 0.72647739, 0.70827831]),\n",
       "  'total_count': Counter({0.0: 932, 1.0: 210})},\n",
       " 4: {'fit_time': array([65.87080383, 66.10714722, 67.08867311, 66.11721921]),\n",
       "  'score_time': array([22.66753101, 22.33682704, 22.12140489, 22.47754693]),\n",
       "  'test_f1': array([0.06060606, 0.        , 0.        , 0.        ]),\n",
       "  'test_accuracy': array([0.93390192, 0.93176972, 0.92963753, 0.93162393]),\n",
       "  'test_precision': array([1., 0., 0., 0.]),\n",
       "  'test_recall': array([0.03125, 0.     , 0.     , 0.     ]),\n",
       "  'test_average_precision': array([0.15846759, 0.15122004, 0.21601141, 0.13296721]),\n",
       "  'test_roc_auc': array([0.63533324, 0.65156608, 0.7051988 , 0.64449541]),\n",
       "  'total_count': Counter({0.0: 1747, 1.0: 128})},\n",
       " 5: {'fit_time': array([27.52519822, 27.5796802 , 28.02923894, 27.77015305]),\n",
       "  'score_time': array([8.88882184, 8.88213181, 8.73356915, 8.78381276]),\n",
       "  'test_f1': array([0.64444444, 0.61904762, 0.68421053, 0.68888889]),\n",
       "  'test_accuracy': array([0.67010309, 0.67010309, 0.75      , 0.70833333]),\n",
       "  'test_precision': array([0.64444444, 0.66666667, 0.83870968, 0.68888889]),\n",
       "  'test_recall': array([0.64444444, 0.57777778, 0.57777778, 0.68888889]),\n",
       "  'test_average_precision': array([0.74356395, 0.77578642, 0.83431845, 0.81928897]),\n",
       "  'test_roc_auc': array([0.73397436, 0.76752137, 0.79084967, 0.80392157]),\n",
       "  'total_count': Counter({1.0: 180, 0.0: 206})}}"
      ]
     },
     "execution_count": 84,
     "metadata": {},
     "output_type": "execute_result"
    }
   ],
   "source": [
    "tt[\"results\"].item()"
   ]
  },
  {
   "cell_type": "code",
   "execution_count": null,
   "metadata": {},
   "outputs": [],
   "source": []
  }
 ],
 "metadata": {
  "kernelspec": {
   "display_name": "Python 3",
   "language": "python",
   "name": "python3"
  },
  "language_info": {
   "codemirror_mode": {
    "name": "ipython",
    "version": 3
   },
   "file_extension": ".py",
   "mimetype": "text/x-python",
   "name": "python",
   "nbconvert_exporter": "python",
   "pygments_lexer": "ipython3",
   "version": "3.6.4"
  }
 },
 "nbformat": 4,
 "nbformat_minor": 2
}
