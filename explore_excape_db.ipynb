{
 "cells": [
  {
   "cell_type": "markdown",
   "metadata": {},
   "source": [
    "## ExCAPE-DB\n",
    "\n",
    "Explore the ExCAPE dataset. Processing tsv file with pandas is slow. We can consider convert the dataset to sqlite if we need to do more heavy analysis."
   ]
  },
  {
   "cell_type": "code",
   "execution_count": 51,
   "metadata": {},
   "outputs": [],
   "source": [
    "import pandas as pd\n",
    "import numpy as np\n",
    "import re\n",
    "from collections import Counter\n",
    "from random import sample"
   ]
  },
  {
   "cell_type": "code",
   "execution_count": 4,
   "metadata": {},
   "outputs": [],
   "source": [
    "df = pd.read_csv(\"pubchem.chembl.dataset4publication_inchi_smiles.tsv\", sep='\\t')"
   ]
  },
  {
   "cell_type": "code",
   "execution_count": 5,
   "metadata": {},
   "outputs": [
    {
     "data": {
      "text/html": [
       "<div>\n",
       "<style scoped>\n",
       "    .dataframe tbody tr th:only-of-type {\n",
       "        vertical-align: middle;\n",
       "    }\n",
       "\n",
       "    .dataframe tbody tr th {\n",
       "        vertical-align: top;\n",
       "    }\n",
       "\n",
       "    .dataframe thead th {\n",
       "        text-align: right;\n",
       "    }\n",
       "</style>\n",
       "<table border=\"1\" class=\"dataframe\">\n",
       "  <thead>\n",
       "    <tr style=\"text-align: right;\">\n",
       "      <th></th>\n",
       "      <th>Ambit_InchiKey</th>\n",
       "      <th>Original_Entry_ID</th>\n",
       "      <th>Entrez_ID</th>\n",
       "      <th>Activity_Flag</th>\n",
       "      <th>pXC50</th>\n",
       "      <th>DB</th>\n",
       "      <th>Original_Assay_ID</th>\n",
       "      <th>Tax_ID</th>\n",
       "      <th>Gene_Symbol</th>\n",
       "      <th>Ortholog_Group</th>\n",
       "      <th>InChI</th>\n",
       "      <th>SMILES</th>\n",
       "    </tr>\n",
       "  </thead>\n",
       "  <tbody>\n",
       "    <tr>\n",
       "      <th>0</th>\n",
       "      <td>AAAAZQPHATYWOK-YRBRRWAQNA-N</td>\n",
       "      <td>11399331</td>\n",
       "      <td>2064</td>\n",
       "      <td>A</td>\n",
       "      <td>7.19382</td>\n",
       "      <td>pubchem</td>\n",
       "      <td>248914</td>\n",
       "      <td>9606</td>\n",
       "      <td>ERBB2</td>\n",
       "      <td>1346</td>\n",
       "      <td>InChI=1/C32H29ClN6O3S/c1-4-41-28-16-25-22(15-2...</td>\n",
       "      <td>ClC=1C=C(NC=2C=3C(N=CC2C#N)=CC(OCC)=C(NC(=O)/C...</td>\n",
       "    </tr>\n",
       "    <tr>\n",
       "      <th>1</th>\n",
       "      <td>AAAAZQPHATYWOK-YRBRRWAQNA-N</td>\n",
       "      <td>CHEMBL175513</td>\n",
       "      <td>1956</td>\n",
       "      <td>A</td>\n",
       "      <td>6.73000</td>\n",
       "      <td>chembl20</td>\n",
       "      <td>312997</td>\n",
       "      <td>9606</td>\n",
       "      <td>EGFR</td>\n",
       "      <td>1260</td>\n",
       "      <td>InChI=1/C32H29ClN6O3S/c1-4-41-28-16-25-22(15-2...</td>\n",
       "      <td>C1=2C(=C(C#N)C=NC1=CC(=C(C2)NC(/C=C/CN(C)C)=O)...</td>\n",
       "    </tr>\n",
       "    <tr>\n",
       "      <th>2</th>\n",
       "      <td>AAABHMIRDIOYOK-NPVYFSBINA-N</td>\n",
       "      <td>CHEMBL1527551</td>\n",
       "      <td>10919</td>\n",
       "      <td>N</td>\n",
       "      <td>4.55000</td>\n",
       "      <td>chembl20</td>\n",
       "      <td>737344</td>\n",
       "      <td>9606</td>\n",
       "      <td>EHMT2</td>\n",
       "      <td>6822</td>\n",
       "      <td>InChI=1/C18H14N6O3/c1-23-10-15(24(26)27)16(22-...</td>\n",
       "      <td>O=C(NC=1C=C2N=C(NC2=CC1)C=3C=CC=CC3)C4=NN(C=C4...</td>\n",
       "    </tr>\n",
       "    <tr>\n",
       "      <th>3</th>\n",
       "      <td>AAABHMIRDIOYOK-NPVYFSBINA-N</td>\n",
       "      <td>CHEMBL1527551</td>\n",
       "      <td>19885</td>\n",
       "      <td>A</td>\n",
       "      <td>5.35000</td>\n",
       "      <td>chembl20</td>\n",
       "      <td>688759</td>\n",
       "      <td>10090</td>\n",
       "      <td>RORC</td>\n",
       "      <td>3770</td>\n",
       "      <td>InChI=1/C18H14N6O3/c1-23-10-15(24(26)27)16(22-...</td>\n",
       "      <td>O=C(NC=1C=C2N=C(NC2=CC1)C=3C=CC=CC3)C4=NN(C=C4...</td>\n",
       "    </tr>\n",
       "    <tr>\n",
       "      <th>4</th>\n",
       "      <td>AAABHMIRDIOYOK-NPVYFSBINA-N</td>\n",
       "      <td>CHEMBL1527551</td>\n",
       "      <td>216</td>\n",
       "      <td>N</td>\n",
       "      <td>4.40000</td>\n",
       "      <td>chembl20</td>\n",
       "      <td>688238</td>\n",
       "      <td>9606</td>\n",
       "      <td>ALDH1A1</td>\n",
       "      <td>143</td>\n",
       "      <td>InChI=1/C18H14N6O3/c1-23-10-15(24(26)27)16(22-...</td>\n",
       "      <td>O=C(NC=1C=C2N=C(NC2=CC1)C=3C=CC=CC3)C4=NN(C=C4...</td>\n",
       "    </tr>\n",
       "  </tbody>\n",
       "</table>\n",
       "</div>"
      ],
      "text/plain": [
       "                Ambit_InchiKey Original_Entry_ID  Entrez_ID Activity_Flag  \\\n",
       "0  AAAAZQPHATYWOK-YRBRRWAQNA-N          11399331       2064             A   \n",
       "1  AAAAZQPHATYWOK-YRBRRWAQNA-N      CHEMBL175513       1956             A   \n",
       "2  AAABHMIRDIOYOK-NPVYFSBINA-N     CHEMBL1527551      10919             N   \n",
       "3  AAABHMIRDIOYOK-NPVYFSBINA-N     CHEMBL1527551      19885             A   \n",
       "4  AAABHMIRDIOYOK-NPVYFSBINA-N     CHEMBL1527551        216             N   \n",
       "\n",
       "     pXC50        DB  Original_Assay_ID  Tax_ID Gene_Symbol Ortholog_Group  \\\n",
       "0  7.19382   pubchem             248914    9606       ERBB2           1346   \n",
       "1  6.73000  chembl20             312997    9606        EGFR           1260   \n",
       "2  4.55000  chembl20             737344    9606       EHMT2           6822   \n",
       "3  5.35000  chembl20             688759   10090        RORC           3770   \n",
       "4  4.40000  chembl20             688238    9606     ALDH1A1            143   \n",
       "\n",
       "                                               InChI  \\\n",
       "0  InChI=1/C32H29ClN6O3S/c1-4-41-28-16-25-22(15-2...   \n",
       "1  InChI=1/C32H29ClN6O3S/c1-4-41-28-16-25-22(15-2...   \n",
       "2  InChI=1/C18H14N6O3/c1-23-10-15(24(26)27)16(22-...   \n",
       "3  InChI=1/C18H14N6O3/c1-23-10-15(24(26)27)16(22-...   \n",
       "4  InChI=1/C18H14N6O3/c1-23-10-15(24(26)27)16(22-...   \n",
       "\n",
       "                                              SMILES  \n",
       "0  ClC=1C=C(NC=2C=3C(N=CC2C#N)=CC(OCC)=C(NC(=O)/C...  \n",
       "1  C1=2C(=C(C#N)C=NC1=CC(=C(C2)NC(/C=C/CN(C)C)=O)...  \n",
       "2  O=C(NC=1C=C2N=C(NC2=CC1)C=3C=CC=CC3)C4=NN(C=C4...  \n",
       "3  O=C(NC=1C=C2N=C(NC2=CC1)C=3C=CC=CC3)C4=NN(C=C4...  \n",
       "4  O=C(NC=1C=C2N=C(NC2=CC1)C=3C=CC=CC3)C4=NN(C=C4...  "
      ]
     },
     "execution_count": 5,
     "metadata": {},
     "output_type": "execute_result"
    }
   ],
   "source": [
    "df.head()"
   ]
  },
  {
   "cell_type": "code",
   "execution_count": 24,
   "metadata": {},
   "outputs": [
    {
     "data": {
      "text/plain": [
       "85307"
      ]
     },
     "execution_count": 24,
     "metadata": {},
     "output_type": "execute_result"
    }
   ],
   "source": [
    "assay_ids = df[\"Original_Assay_ID\"].tolist()\n",
    "len(set(assay_ids))"
   ]
  },
  {
   "cell_type": "code",
   "execution_count": 25,
   "metadata": {},
   "outputs": [
    {
     "data": {
      "text/plain": [
       "1667"
      ]
     },
     "execution_count": 25,
     "metadata": {},
     "output_type": "execute_result"
    }
   ],
   "source": [
    "target_ids = df[\"Entrez_ID\"].tolist()\n",
    "len(set(target_ids))"
   ]
  },
  {
   "cell_type": "code",
   "execution_count": 26,
   "metadata": {},
   "outputs": [
    {
     "data": {
      "text/plain": [
       "Counter({'A': 1332426, 'N': 69517737})"
      ]
     },
     "execution_count": 26,
     "metadata": {},
     "output_type": "execute_result"
    }
   ],
   "source": [
    "Counter(df[\"Activity_Flag\"])"
   ]
  },
  {
   "cell_type": "markdown",
   "metadata": {},
   "source": [
    "## Check Overlapping with InChI"
   ]
  },
  {
   "cell_type": "code",
   "execution_count": 64,
   "metadata": {},
   "outputs": [
    {
     "name": "stdout",
     "output_type": "stream",
     "text": [
      "There are 30405 compounds in U2OS, and 998535 compounds in ExCAPE.\n"
     ]
    }
   ],
   "source": [
    "bone_df = pd.read_csv(\"/Users/JayWong/Programs/gitter_lab/pharmaco-image/data/test/meta_data/chemical_annotations_inchi.csv\")\n",
    "total_inchi = set(df[\"InChI\"])\n",
    "bone_inchi = set(bone_df[\"INCHI\"])\n",
    "print(\"There are {} compounds in U2OS, and {} compounds in ExCAPE.\".format(len(bone_inchi),\n",
    "                                                                           len(total_inchi)))"
   ]
  },
  {
   "cell_type": "code",
   "execution_count": 32,
   "metadata": {},
   "outputs": [
    {
     "data": {
      "text/plain": [
       "set()"
      ]
     },
     "execution_count": 32,
     "metadata": {},
     "output_type": "execute_result"
    }
   ],
   "source": [
    "total_inchi & bone_inchi"
   ]
  },
  {
   "cell_type": "code",
   "execution_count": 42,
   "metadata": {},
   "outputs": [
    {
     "data": {
      "text/plain": [
       "['InChI=1S/C22H18N2O5S2/c1-10-3-6-12(7-4-10)24-20(26)16-15(11-5-8-13(25)14(9-11)29-2)17-19(23-22(28)31-17)30-18(16)21(24)27/h3-9,15-16,18,25H,1-2H3,(H,23,28)',\n",
       " 'InChI=1S/C15H15N/c1-2-6-12(7-3-1)15-11-16-10-13-8-4-5-9-14(13)15/h1-9,15-16H,10-11H2',\n",
       " 'InChI=1S/C28H34FN3O5/c1-17-14-32(28(35)21-7-5-6-8-23(21)29)18(2)16-37-24-12-11-20(30-26(33)19-9-10-19)13-22(24)27(34)31(3)15-25(17)36-4/h5-8,11-13,17-19,25H,9-10,14-16H2,1-4H3,(H,30,33)/t17-,18-,25+/m1/s1',\n",
       " 'InChI=1S/C17H16FNO3/c18-14-4-2-1-3-13(14)17(20)19-8-7-12-5-6-15-16(11-12)22-10-9-21-15/h1-6,11H,7-10H2,(H,19,20)',\n",
       " 'InChI=1S/C10H10O4/c1-14-10(13)5-2-7-6-8(11)3-4-9(7)12/h2-6,11-12H,1H3',\n",
       " 'InChI=1S/C25H23N5O4/c1-15-2-4-17(5-3-15)22-21-20(19(14-26)23(27)34-24(21)29-28-22)16-6-8-18(9-7-16)33-25(31)30-10-12-32-13-11-30/h2-9,20H,10-13,27H2,1H3,(H,28,29)',\n",
       " 'InChI=1S/C31H42N4O6/c1-20-17-35(21(2)19-36)30(38)25-11-8-12-26(33-29(37)22-9-6-5-7-10-22)28(25)41-27(20)18-34(3)31(39)32-23-13-15-24(40-4)16-14-23/h8,11-16,20-22,27,36H,5-7,9-10,17-19H2,1-4H3,(H,32,39)(H,33,37)/t20-,21-,27+/m1/s1',\n",
       " 'InChI=1S/C27H33FN4O5/c1-16(2)30-27(35)31-19-8-11-23-21(12-19)26(34)32(3)22-10-9-20(37-24(22)15-36-23)13-25(33)29-14-17-4-6-18(28)7-5-17/h4-8,11-12,16,20,22,24H,9-10,13-15H2,1-3H3,(H,29,33)(H2,30,31,35)/t20-,22-,24-/m0/s1',\n",
       " 'InChI=1S/C25H31N5O5S/c1-28-7-9-30(10-8-28)23(31)12-17-4-5-20-22(35-17)13-34-21-6-3-16(11-18(21)25(33)29(20)2)27-24(32)19-14-36-15-26-19/h3,6,11,14-15,17,20,22H,4-5,7-10,12-13H2,1-2H3,(H,27,32)/t17-,20+,22-/m1/s1',\n",
       " 'InChI=1S/C18H20ClN3OS/c1-2-3-4-9-22-10-15(23)16(17(22)20)18-21-14(11-24-18)12-5-7-13(19)8-6-12/h5-8,11H,2-4,9-10,20H2,1H3']"
      ]
     },
     "execution_count": 42,
     "metadata": {},
     "output_type": "execute_result"
    }
   ],
   "source": [
    "sample(bone_inchi, 10)"
   ]
  },
  {
   "cell_type": "code",
   "execution_count": 43,
   "metadata": {},
   "outputs": [
    {
     "data": {
      "text/plain": [
       "['InChI=1/C23H14ClF2N3O/c24-18-11-15(9-10-19(18)26)27-23-28-21(13-5-7-14(25)8-6-13)17-12-30-20-4-2-1-3-16(20)22(17)29-23/h1-11H,12H2,(H,27,28,29)/f/h27H',\n",
       " 'InChI=1/C20H21N3O5S/c1-22-17-7-6-16(12-18(17)28-20(22)25)29(26,27)21-10-8-19(24)23-11-9-14-4-2-3-5-15(14)13-23/h2-7,12,21H,8-11,13H2,1H3',\n",
       " 'InChI=1/C26H27N3O8S/c1-16-11-22(17(2)29(16)20-7-10-24-25(12-20)37-15-36-24)23(31)14-35-26(32)13-28(4)38(33,34)21-8-5-19(6-9-21)27-18(3)30/h5-12H,13-15H2,1-4H3,(H,27,30)/f/h27H',\n",
       " 'InChI=1/C20H25F3N4O2/c21-20(22,23)16-6-4-15(5-7-16)19-24-18(29-25-19)14-27-8-2-1-3-17(27)13-26-9-11-28-12-10-26/h4-7,17H,1-3,8-14H2',\n",
       " 'InChI=1/C20H16Cl3N3O2/c21-11-1-2-12(16(22)6-11)14-8-24-9-15(14)20(28)26-18-5-10-3-4-25-19(27)13(10)7-17(18)23/h1-7,14-15,24H,8-9H2,(H,25,27)(H,26,28)/f/h26-27H',\n",
       " 'InChI=1/C22H20N2O4/c1-27-19-10-4-8-17(13-19)23-21(25)15-6-3-7-16(12-15)22(26)24-18-9-5-11-20(14-18)28-2/h3-14H,1-2H3,(H,23,25)(H,24,26)/f/h23-24H',\n",
       " 'InChI=1/C20H29N3O3/c1-15-7-5-9-18(16(15)2)26-14-11-21-10-3-4-12-23-19(24)17-8-6-13-22(17)20(23)25/h5,7,9,17,21H,3-4,6,8,10-14H2,1-2H3',\n",
       " 'InChI=1/C22H30N4O4/c1-4-5-12-29-13-8-11-26-20(23)18(22(27)30-15(2)14-28-3)19-21(26)25-17-10-7-6-9-16(17)24-19/h6-7,9-10,15H,4-5,8,11-14,23H2,1-3H3',\n",
       " 'InChI=1/C11H13N3O/c1-9-11(14-15-13-9)8-12-7-10-5-3-2-4-6-10/h2-6,12H,7-8H2,1H3',\n",
       " 'InChI=1/C24H32N2O3/c1-4-29-24(28)22-17(2)23(19-12-8-7-9-13-19)26(18(22)3)16-21(27)25-20-14-10-5-6-11-15-20/h7-9,12-13,20H,4-6,10-11,14-16H2,1-3H3,(H,25,27)/f/h25H']"
      ]
     },
     "execution_count": 43,
     "metadata": {},
     "output_type": "execute_result"
    }
   ],
   "source": [
    "sample(total_inchi, 10)"
   ]
  },
  {
   "cell_type": "markdown",
   "metadata": {},
   "source": [
    "There are no overlapping compounds. After inspecting on the random 10 samples from each list, we notice the `rdkit` converted InChI is in standard format (`InChI=1S`) while ExCAPE-DB is using version 1 (`InchI=1`) ."
   ]
  },
  {
   "cell_type": "code",
   "execution_count": 65,
   "metadata": {},
   "outputs": [
    {
     "data": {
      "text/plain": [
       "9468"
      ]
     },
     "execution_count": 65,
     "metadata": {},
     "output_type": "execute_result"
    }
   ],
   "source": [
    "modified_bone_inchi = set([re.sub(r'(InChI=1S)(.+)', r'InChI=1\\2', s) for s in bone_inchi if not pd.isna(s)])\n",
    "len(total_inchi & modified_bone_inchi)"
   ]
  },
  {
   "cell_type": "markdown",
   "metadata": {},
   "source": [
    "After naively remove \"S\" from our InChI strings, we got 9468 intersections with ExCAPE-DB."
   ]
  }
 ],
 "metadata": {
  "kernelspec": {
   "display_name": "Python 3",
   "language": "python",
   "name": "python3"
  },
  "language_info": {
   "codemirror_mode": {
    "name": "ipython",
    "version": 3
   },
   "file_extension": ".py",
   "mimetype": "text/x-python",
   "name": "python",
   "nbconvert_exporter": "python",
   "pygments_lexer": "ipython3",
   "version": "3.6.4"
  }
 },
 "nbformat": 4,
 "nbformat_minor": 2
}
