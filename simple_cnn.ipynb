{
 "cells": [
  {
   "cell_type": "markdown",
   "metadata": {},
   "source": [
    "# Simple CNN\n",
    "\n",
    "In this notebook, we will train a simple CNN (LeNet) end-to-end to predict one assay of compound activity."
   ]
  },
  {
   "cell_type": "markdown",
   "metadata": {},
   "source": [
    "## 1. Sample Images\n",
    "\n",
    "For this model, we want to directly use 5-channel images. The images corresponding to one assay come from different plates (different files), so we want to have a nice function to extract those images."
   ]
  },
  {
   "cell_type": "code",
   "execution_count": 41,
   "metadata": {},
   "outputs": [],
   "source": [
    "import numpy as np\n",
    "import pandas as pd\n",
    "import re\n",
    "import cv2\n",
    "from glob import glob\n",
    "from os.path import join, exists, basename\n",
    "from json import load, dump\n",
    "from shutil import copyfile, rmtree"
   ]
  },
  {
   "cell_type": "markdown",
   "metadata": {},
   "source": [
    "### 1.1. Output Matrix\n",
    "\n",
    "In the output_matrix, we have `compound_broad_id`. We can use it to map to individual `pid` and `wid`.\n",
    "\n",
    "The structure is an array of `(pid, wid)` tuples corresponding to `compound_broad_id` in the output_matrix."
   ]
  },
  {
   "cell_type": "code",
   "execution_count": 43,
   "metadata": {},
   "outputs": [],
   "source": [
    "output_data = np.load('./resource/output_matrix_convert_collision.npz')\n",
    "output_matrix = output_data['output_matrix']\n",
    "compound_inchi = output_data['compound_inchi']\n",
    "compound_broad_id = output_data['compound_broad_id']\n",
    "assay = output_data['assay']\n",
    "cleaned_output_bids = [i[:13] for i in compound_broad_id]"
   ]
  },
  {
   "cell_type": "code",
   "execution_count": 44,
   "metadata": {},
   "outputs": [
    {
     "data": {
      "text/plain": [
       "(27241, 212)"
      ]
     },
     "execution_count": 44,
     "metadata": {},
     "output_type": "execute_result"
    }
   ],
   "source": [
    "output_matrix.shape"
   ]
  },
  {
   "cell_type": "code",
   "execution_count": 34,
   "metadata": {},
   "outputs": [
    {
     "data": {
      "text/html": [
       "<div>\n",
       "<style scoped>\n",
       "    .dataframe tbody tr th:only-of-type {\n",
       "        vertical-align: middle;\n",
       "    }\n",
       "\n",
       "    .dataframe tbody tr th {\n",
       "        vertical-align: top;\n",
       "    }\n",
       "\n",
       "    .dataframe thead th {\n",
       "        text-align: right;\n",
       "    }\n",
       "</style>\n",
       "<table border=\"1\" class=\"dataframe\">\n",
       "  <thead>\n",
       "    <tr style=\"text-align: right;\">\n",
       "      <th></th>\n",
       "      <th>pid</th>\n",
       "      <th>wid</th>\n",
       "      <th>bid</th>\n",
       "      <th>cleaned_bid</th>\n",
       "    </tr>\n",
       "  </thead>\n",
       "  <tbody>\n",
       "    <tr>\n",
       "      <th>0</th>\n",
       "      <td>25855</td>\n",
       "      <td>a01</td>\n",
       "      <td>BRD-K14087339-001-01-6</td>\n",
       "      <td>BRD-K14087339</td>\n",
       "    </tr>\n",
       "    <tr>\n",
       "      <th>1</th>\n",
       "      <td>25855</td>\n",
       "      <td>a02</td>\n",
       "      <td>BRD-K53903148-001-01-7</td>\n",
       "      <td>BRD-K53903148</td>\n",
       "    </tr>\n",
       "    <tr>\n",
       "      <th>2</th>\n",
       "      <td>25855</td>\n",
       "      <td>a03</td>\n",
       "      <td>BRD-K37357048-001-01-8</td>\n",
       "      <td>BRD-K37357048</td>\n",
       "    </tr>\n",
       "    <tr>\n",
       "      <th>3</th>\n",
       "      <td>25855</td>\n",
       "      <td>a04</td>\n",
       "      <td>BRD-K25385069-001-01-7</td>\n",
       "      <td>BRD-K25385069</td>\n",
       "    </tr>\n",
       "    <tr>\n",
       "      <th>4</th>\n",
       "      <td>25855</td>\n",
       "      <td>a05</td>\n",
       "      <td>BRD-K63140065-001-01-3</td>\n",
       "      <td>BRD-K63140065</td>\n",
       "    </tr>\n",
       "  </tbody>\n",
       "</table>\n",
       "</div>"
      ],
      "text/plain": [
       "     pid  wid                     bid    cleaned_bid\n",
       "0  25855  a01  BRD-K14087339-001-01-6  BRD-K14087339\n",
       "1  25855  a02  BRD-K53903148-001-01-7  BRD-K53903148\n",
       "2  25855  a03  BRD-K37357048-001-01-8  BRD-K37357048\n",
       "3  25855  a04  BRD-K25385069-001-01-7  BRD-K25385069\n",
       "4  25855  a05  BRD-K63140065-001-01-3  BRD-K63140065"
      ]
     },
     "execution_count": 34,
     "metadata": {},
     "output_type": "execute_result"
    }
   ],
   "source": [
    "df = pd.read_csv('./resource/merged_meta_table_406.csv')\n",
    "df.head()"
   ]
  },
  {
   "cell_type": "code",
   "execution_count": 39,
   "metadata": {},
   "outputs": [
    {
     "name": "stdout",
     "output_type": "stream",
     "text": [
      "30413\n",
      "26939\n"
     ]
    }
   ],
   "source": [
    "print(len(set(cleaned_table_bids)))\n",
    "print(len(set(cleaned_output_bids).intersection(set(df['cleaned_bid']))))"
   ]
  },
  {
   "cell_type": "markdown",
   "metadata": {},
   "source": [
    "Among 30413 imaged compounds, there are 26939 overlapping compounds in our 212 assays."
   ]
  },
  {
   "cell_type": "code",
   "execution_count": 48,
   "metadata": {},
   "outputs": [],
   "source": [
    "# Build a dictionary cleaned_bid => [(pid, wid)]\n",
    "\n",
    "meta_bid_maps = {}\n",
    "for i, r in df.iterrows():\n",
    "    cur_bid = r['cleaned_bid']\n",
    "    cur_pid = r['pid']\n",
    "    cur_wid = r['wid']\n",
    "    \n",
    "    if cur_bid in meta_bid_maps:\n",
    "        meta_bid_maps[cur_bid].append((cur_pid, cur_wid))\n",
    "    else:\n",
    "        meta_bid_maps[cur_bid] = [(cur_pid, cur_wid)]"
   ]
  },
  {
   "cell_type": "code",
   "execution_count": 52,
   "metadata": {},
   "outputs": [],
   "source": [
    "pid_wids = [[] for i in range(output_matrix.shape[0])]\n",
    "\n",
    "# Iterate through cmpounds in the output matrix\n",
    "for i in range(output_matrix.shape[0]):\n",
    "    cur_bid = cleaned_output_bids[i]\n",
    "    pid_wids[i] = meta_bid_maps[cur_bid]"
   ]
  },
  {
   "cell_type": "code",
   "execution_count": 57,
   "metadata": {},
   "outputs": [],
   "source": [
    "# Overwrite the old output matrix, so we don't need to extract pid_wids everytime\n",
    "np.savez('./resource/output_matrix_convert_collision_.npz',\n",
    "         output_matrix=output_matrix, compound_inchi=compound_inchi,\n",
    "         compound_broad_id=compound_broad_id, assay=assay,\n",
    "         cleaned_output_bids=cleaned_output_bids, pid_wids=pid_wids)"
   ]
  },
  {
   "cell_type": "markdown",
   "metadata": {},
   "source": [
    "## 1.2. Extract Images and Labels\n",
    "\n",
    "After getting the map from output compound to `(pid, wid)`, we can write a function to extract images and labels for one given assay."
   ]
  },
  {
   "cell_type": "code",
   "execution_count": 2,
   "metadata": {},
   "outputs": [],
   "source": [
    "assay = 192\n",
    "\n",
    "# Load the output matrix and each row's corresponding pid, wid\n",
    "output_data = np.load('./resource/output_matrix_convert_collision.npz')\n",
    "output_matrix = output_data['output_matrix']\n",
    "pid_wids = output_data['pid_wids']"
   ]
  },
  {
   "cell_type": "code",
   "execution_count": 6,
   "metadata": {},
   "outputs": [],
   "source": [
    "# Find selected compounds in this assay\n",
    "selected_index = output_matrix[:, assay] != -1\n",
    "selected_labels = output_matrix[:, assay][selected_index]\n",
    "selected_pid_wids = np.array(pid_wids)[selected_index]"
   ]
  },
  {
   "cell_type": "code",
   "execution_count": 17,
   "metadata": {},
   "outputs": [],
   "source": [
    "# Flatten the selected pid_wids and group them by pid\n",
    "# selected_wells has structure [(wid, pid, label)]\n",
    "selected_wells = []\n",
    "\n",
    "for i in range(len(selected_pid_wids)):\n",
    "    cur_pid_wids = selected_pid_wids[i]\n",
    "    cur_label = selected_labels[i]\n",
    "    \n",
    "    for pid_wid in cur_pid_wids:\n",
    "        selected_wells.append((pid_wid[0], pid_wid[1], int(cur_label)))\n",
    "\n",
    "# Group these wells by their pids\n",
    "selected_well_dict = {}\n",
    "for well in selected_wells:\n",
    "    cur_pid, cur_wid, cur_label = well[0], well[1], well[2]\n",
    "    \n",
    "    if cur_pid in selected_well_dict:\n",
    "        selected_well_dict[cur_pid].append((cur_wid, cur_label))\n",
    "    else:\n",
    "        selected_well_dict[cur_pid] = [(cur_wid, cur_label)]"
   ]
  },
  {
   "cell_type": "code",
   "execution_count": 19,
   "metadata": {},
   "outputs": [],
   "source": [
    "raw_channels = ['ERSyto', 'ERSytoBleed', 'Hoechst', 'Mito', 'Ph_golgi']\n",
    "raw_paths = ['./{}-{}/*.tif'.format('{}', c) for c in raw_channels]"
   ]
  },
  {
   "cell_type": "code",
   "execution_count": 39,
   "metadata": {},
   "outputs": [],
   "source": [
    "def extract_instance(pid, wid, label, output_dir='./output'):\n",
    "    \n",
    "    paths = [p.format(pid) for p in raw_paths]\n",
    "\n",
    "    # Dynamically count number of sids for this pid-wid\n",
    "    sid_files = [f for f in glob(paths[0]) if\n",
    "                        re.search(r'^.*_{}_s\\d_.*\\.tif$'.format(wid),\n",
    "                                  basename(f))]\n",
    "    sid_num = len(sid_files)\n",
    "\n",
    "    for sid in range(1, sid_num + 1):\n",
    "        # Each sid generates one instance\n",
    "        image_names, images = [], []\n",
    "\n",
    "        for p in paths:\n",
    "            # Search current pid-wid-sid\n",
    "            cur_file = [f for f in glob(p) if\n",
    "                        re.search(r'^.*_{}_s{}_.*\\.tif$'.format(wid, sid),\n",
    "                                  basename(f))]\n",
    "\n",
    "            # We should only see one result returned from the filter\n",
    "            if len(cur_file) != 1:\n",
    "                error = \"Found more than one file for {}-{}-{}.\".format(\n",
    "                    pid, wid, sid\n",
    "                )\n",
    "                raise ValueError(error)\n",
    "\n",
    "            image_names.append(cur_file[0])\n",
    "\n",
    "        # Read 5 channels\n",
    "        for n in image_names:\n",
    "            images.append(cv2.imread(n, -1) * 16)\n",
    "\n",
    "        # Store each image as a 5 channel 3d matrix\n",
    "        image_instance = np.array(images)\n",
    "\n",
    "        # Save the instance with its label\n",
    "        np.savez(join(output_dir, 'img_{}_{}_{}_{}.npz'.format(\n",
    "            pid, wid, sid, label\n",
    "        )), img=image_instance)"
   ]
  },
  {
   "cell_type": "code",
   "execution_count": 40,
   "metadata": {},
   "outputs": [],
   "source": [
    "pid = 24277\n",
    "\n",
    "output_dir = './temp_1'\n",
    "\n",
    "for wid_tuple in selected_well_dict[pid]:\n",
    "    extract_instance(pid, wid_tuple[0], wid_tuple[1], output_dir)"
   ]
  },
  {
   "cell_type": "code",
   "execution_count": 38,
   "metadata": {},
   "outputs": [
    {
     "data": {
      "text/plain": [
       "(5, 520, 696)"
      ]
     },
     "execution_count": 38,
     "metadata": {},
     "output_type": "execute_result"
    }
   ],
   "source": [
    "def extract_plate(pid, selected_well_dict, output_dir='./output'):\n",
    "    \n",
    "    # Copy 5 zip files from gluster to the current directory\n",
    "    for c in raw_channels:\n",
    "        copyfile(\"/mnt/gluster/zwang688/{}-{}.zip\".format(pid, c),\n",
    "                 \"./{}-{}.zip\".format(pid, c))\n",
    "\n",
    "        # Extract the zip file and remove it\n",
    "        with zipfile.ZipFile(\"./{}-{}.zip\".format(pid, c), 'r') as fp:\n",
    "            fp.extractall('./')\n",
    "\n",
    "        os.remove(\"./{}-{}.zip\".format(pid, c))\n",
    "        \n",
    "    # Extract all instances from all selected wells in this plate\n",
    "    for wid_tuple in selected_well_dict[pid]:\n",
    "        extract_instance(pid, wid_tuple[0], wid_tuple[1], output_dir)\n",
    "        \n",
    "    # Clean up directories\n",
    "    for c in raw_channels:\n",
    "        rmtree(\"./{}-{}\".format(pid, c))"
   ]
  },
  {
   "cell_type": "code",
   "execution_count": null,
   "metadata": {},
   "outputs": [],
   "source": []
  }
 ],
 "metadata": {
  "kernelspec": {
   "display_name": "Python 3",
   "language": "python",
   "name": "python3"
  },
  "language_info": {
   "codemirror_mode": {
    "name": "ipython",
    "version": 3
   },
   "file_extension": ".py",
   "mimetype": "text/x-python",
   "name": "python",
   "nbconvert_exporter": "python",
   "pygments_lexer": "ipython3",
   "version": "3.7.2"
  },
  "toc": {
   "nav_menu": {},
   "number_sections": false,
   "sideBar": true,
   "skip_h1_title": true,
   "title_cell": "Table of Contents",
   "title_sidebar": "Contents",
   "toc_cell": false,
   "toc_position": {},
   "toc_section_display": true,
   "toc_window_display": false
  }
 },
 "nbformat": 4,
 "nbformat_minor": 2
}
